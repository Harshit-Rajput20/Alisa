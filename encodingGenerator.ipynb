{
 "cells": [
  {
   "cell_type": "code",
   "execution_count": 1,
   "metadata": {},
   "outputs": [],
   "source": [
    "import cv2\n",
    "import face_recognition\n",
    "import os\n",
    "import numpy as np\n",
    "import pickle"
   ]
  },
  {
   "cell_type": "code",
   "execution_count": 2,
   "metadata": {},
   "outputs": [
    {
     "name": "stdout",
     "output_type": "stream",
     "text": [
      "1\n"
     ]
    },
    {
     "data": {
      "text/plain": [
       "['1']"
      ]
     },
     "execution_count": 2,
     "metadata": {},
     "output_type": "execute_result"
    }
   ],
   "source": [
    "imagesPath = 'images'\n",
    "imagePathList = os.listdir(imagesPath)\n",
    "img = []\n",
    "studentId = []\n",
    "for path in imagePathList:\n",
    "    img.append(cv2.imread(os.path.join(imagesPath,path)))\n",
    "    studentId.append(os.path.splitext(path)[0])\n",
    "print(len(img))\n",
    "studentId"
   ]
  },
  {
   "cell_type": "code",
   "execution_count": 3,
   "metadata": {},
   "outputs": [],
   "source": [
    "def findEncoding(imageList):\n",
    "    encodeList = []\n",
    "    for img in imageList:\n",
    "        img = cv2.cvtColor(img,cv2.COLOR_BGR2RGB)\n",
    "        encode = face_recognition.face_encodings(img)[0]\n",
    "        encodeList.append(encode)\n",
    "    return encodeList\n"
   ]
  },
  {
   "cell_type": "code",
   "execution_count": 4,
   "metadata": {},
   "outputs": [],
   "source": [
    "encodeList = findEncoding(img)\n",
    "# gives encoding of all the images"
   ]
  },
  {
   "cell_type": "code",
   "execution_count": 8,
   "metadata": {},
   "outputs": [
    {
     "data": {
      "text/plain": [
       "[array([-0.17289338,  0.0154611 ,  0.10778064,  0.01995182, -0.00952099,\n",
       "        -0.06344232,  0.01580179, -0.08972383,  0.13544479, -0.076461  ,\n",
       "         0.15026683, -0.0624906 , -0.2197929 , -0.08011036,  0.06828134,\n",
       "         0.10102867, -0.08085437, -0.15148143, -0.04558198, -0.05463267,\n",
       "         0.03212141,  0.00831222,  0.03068849,  0.11834842, -0.1409017 ,\n",
       "        -0.42020521, -0.06978884, -0.16907895,  0.02766683, -0.06359501,\n",
       "        -0.07491165, -0.00574574, -0.2252094 , -0.00937838, -0.0300229 ,\n",
       "         0.10362125,  0.05132535, -0.0212955 ,  0.14211799, -0.02029089,\n",
       "        -0.21006659, -0.08130616, -0.03745484,  0.2418787 ,  0.14213145,\n",
       "         0.05368479,  0.0550721 ,  0.01105992,  0.08207384, -0.21824649,\n",
       "         0.09667669,  0.09230728,  0.09872765, -0.01828406,  0.10402346,\n",
       "        -0.12766653, -0.0045421 , -0.0169275 , -0.1941745 ,  0.12959911,\n",
       "         0.05521631, -0.04900346,  0.00857561, -0.03061434,  0.23270309,\n",
       "         0.04762216, -0.10934622, -0.07900584,  0.11534921, -0.23505209,\n",
       "         0.02022482,  0.05516397, -0.08564701, -0.18500945, -0.33304921,\n",
       "         0.02298128,  0.38250938,  0.1543413 , -0.20725647,  0.05940858,\n",
       "        -0.12804015, -0.01688823,  0.08752778,  0.07277209, -0.03311399,\n",
       "         0.13443308, -0.15111707,  0.06300557,  0.2181371 ,  0.02082415,\n",
       "        -0.02252872,  0.23156735, -0.07622494,  0.01629587,  0.00898524,\n",
       "         0.05051453, -0.09010968, -0.04536116, -0.0329627 ,  0.00168425,\n",
       "         0.08314938, -0.0415302 ,  0.01503009,  0.07871597, -0.24045226,\n",
       "         0.14450774, -0.05011319,  0.0054101 , -0.01019801,  0.06061973,\n",
       "        -0.1763836 , -0.04732324,  0.13477446, -0.25227264,  0.14944611,\n",
       "         0.1740066 , -0.00422908,  0.12071736, -0.02076735,  0.0161659 ,\n",
       "        -0.02098889, -0.02391288, -0.1567651 , -0.0756088 ,  0.05602119,\n",
       "        -0.05380058,  0.09024919,  0.07578479])]"
      ]
     },
     "execution_count": 8,
     "metadata": {},
     "output_type": "execute_result"
    }
   ],
   "source": [
    "encodeList"
   ]
  },
  {
   "cell_type": "code",
   "execution_count": 9,
   "metadata": {},
   "outputs": [],
   "source": [
    "encodeListWithIds = [encodeList,studentId]"
   ]
  },
  {
   "cell_type": "code",
   "execution_count": 10,
   "metadata": {},
   "outputs": [],
   "source": [
    "file = open('EncodeFile.p','wb')\n",
    "pickle.dump(encodeListWithIds,file)\n",
    "file.close()"
   ]
  },
  {
   "cell_type": "code",
   "execution_count": null,
   "metadata": {},
   "outputs": [],
   "source": []
  },
  {
   "cell_type": "code",
   "execution_count": null,
   "metadata": {},
   "outputs": [],
   "source": []
  }
 ],
 "metadata": {
  "kernelspec": {
   "display_name": "py310",
   "language": "python",
   "name": "python3"
  },
  "language_info": {
   "codemirror_mode": {
    "name": "ipython",
    "version": 3
   },
   "file_extension": ".py",
   "mimetype": "text/x-python",
   "name": "python",
   "nbconvert_exporter": "python",
   "pygments_lexer": "ipython3",
   "version": "3.10.12"
  }
 },
 "nbformat": 4,
 "nbformat_minor": 2
}
